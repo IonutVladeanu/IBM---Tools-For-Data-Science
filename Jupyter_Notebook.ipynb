{
  "cells": [
    {
      "cell_type": "markdown",
      "metadata": {
        "id": "9c5e64dc-2bc7-4640-9b71-877eda7b6100"
      },
      "source": [
        "<center>\n",
        "    <img src=\"https://cf-courses-data.s3.us.cloud-object-storage.appdomain.cloud/IBMDeveloperSkillsNetwork-DS0105EN-SkillsNetwork/labs/Module2/images/SN_web_lightmode.png\" width=\"300\" alt=\"cognitiveclass.ai logo\">\n",
        "</center>\n"
      ]
    },
    {
      "cell_type": "markdown",
      "metadata": {
        "id": "bca0d27a-24c6-4c43-b116-c73c8d9ab219"
      },
      "source": [
        "# Hands-on Lab: Create your Jupyter Notebook\n"
      ]
    },
    {
      "cell_type": "markdown",
      "metadata": {
        "id": "8b126e2f-912e-42e0-8d57-43862ac465fc"
      },
      "source": [
        "#### Add your code below following the instructions given in the course\n"
      ]
    },
    {
      "cell_type": "markdown",
      "source": [
        "# Data Science Tools and Ecosystem"
      ],
      "metadata": {
        "id": "nYTfuB0_-myO"
      }
    },
    {
      "cell_type": "markdown",
      "source": [
        "In this notebook, Data Science Tools and Ecosystem are summarized."
      ],
      "metadata": {
        "id": "cOCZ2-qg_yRq"
      }
    },
    {
      "cell_type": "markdown",
      "source": [
        "Some of popular languages that Data Scientist use are:\n",
        "\n",
        "1. Python\n",
        "2. R\n",
        "3. SQL\n",
        "4. Julia\n",
        "5. Scala\n"
      ],
      "metadata": {
        "id": "i3BjNf-lAOOL"
      }
    },
    {
      "cell_type": "markdown",
      "source": [
        "Some of the commonly used libraries used by Data Scientists include:\n",
        "\n",
        "1. Numpy\n",
        "2. Pandas\n",
        "3. Matplotlib\n",
        "4. Plotly\n",
        "5. Seaborn"
      ],
      "metadata": {
        "id": "fIedl2qcBa2j"
      }
    },
    {
      "cell_type": "markdown",
      "source": [
        "|Data Science Tools|\n",
        "|------------------|\n",
        "|Jupyter Notebook|\n",
        "|R Studio|\n",
        "|Apache Zeppelin|\n"
      ],
      "metadata": {
        "id": "ZxwF6b8KCRJP"
      }
    },
    {
      "cell_type": "markdown",
      "source": [
        "### Below are a few examples of evaluating arithmetic expressions in Python."
      ],
      "metadata": {
        "id": "XvY4xPNDDR3U"
      }
    },
    {
      "cell_type": "code",
      "source": [
        "# This is a simple arithmetic expression to multiply then add integers.\n",
        "(3*4)+5"
      ],
      "metadata": {
        "colab": {
          "base_uri": "https://localhost:8080/"
        },
        "id": "CLBicQfNAVPw",
        "outputId": "7c359f11-8e99-4106-cbdb-678e3d343051"
      },
      "execution_count": null,
      "outputs": [
        {
          "output_type": "execute_result",
          "data": {
            "text/plain": [
              "17"
            ]
          },
          "metadata": {},
          "execution_count": 2
        }
      ]
    },
    {
      "cell_type": "code",
      "source": [
        "# This will convert 200 minutes to hours by dividing by 60\n",
        "minutes = 200\n",
        "hours = 200 / 60\n",
        "print(f'{minutes} minutes = {hours} hours')"
      ],
      "metadata": {
        "colab": {
          "base_uri": "https://localhost:8080/"
        },
        "id": "Ok4aUqurDxnG",
        "outputId": "b1d9220a-9278-44c9-d323-58ea160cb541"
      },
      "execution_count": null,
      "outputs": [
        {
          "output_type": "stream",
          "name": "stdout",
          "text": [
            "200 minutes = 3.3333333333333335 hours\n"
          ]
        }
      ]
    },
    {
      "cell_type": "markdown",
      "source": [
        "**Objectives:**\n",
        "* List Popular Languages for Data Science\n",
        "* Create and format Markdown cells\n",
        "* Demonstrate arithmetic expressions in Python  "
      ],
      "metadata": {
        "id": "wSmJIDp4Fd0E"
      }
    },
    {
      "cell_type": "markdown",
      "source": [
        "##Author\n",
        "Ionut Vladeanu"
      ],
      "metadata": {
        "id": "G8xsRAs8GS9h"
      }
    },
    {
      "cell_type": "markdown",
      "metadata": {
        "id": "b5f467ed-efe7-45ac-a08b-b2d48c26ba81"
      },
      "source": [
        "Copyright ©2024 IBM Corporation. All rights reserved.\n"
      ]
    }
  ],
  "metadata": {
    "kernelspec": {
      "display_name": "Python",
      "language": "python",
      "name": "conda-env-python-py"
    },
    "language_info": {
      "name": "python",
      "version": "3.7.12",
      "mimetype": "text/x-python",
      "codemirror_mode": {
        "name": "ipython",
        "version": 3
      },
      "pygments_lexer": "ipython3",
      "nbconvert_exporter": "python",
      "file_extension": ".py"
    },
    "prev_pub_hash": "9e1985db9844176462bd1d5863048c9f3d17404bbc6a648be9084b0c42b29347",
    "colab": {
      "provenance": []
    }
  },
  "nbformat": 4,
  "nbformat_minor": 0
}